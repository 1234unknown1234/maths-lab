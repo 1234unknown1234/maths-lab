{
  "nbformat": 4,
  "nbformat_minor": 0,
  "metadata": {
    "colab": {
      "provenance": [],
      "authorship_tag": "ABX9TyNI/2iQfaxHpKpsMFXikJPn",
      "include_colab_link": true
    },
    "kernelspec": {
      "name": "python3",
      "display_name": "Python 3"
    },
    "language_info": {
      "name": "python"
    }
  },
  "cells": [
    {
      "cell_type": "markdown",
      "metadata": {
        "id": "view-in-github",
        "colab_type": "text"
      },
      "source": [
        "<a href=\"https://colab.research.google.com/github/1234unknown1234/maths-lab/blob/main/Find%20the%20inner%20product%20of%20the%20vectors%20(2%2C%201%2C%205%2C%204)%20and%20(3%2C%204%2C%207%2C%208).ipynb\" target=\"_parent\"><img src=\"https://colab.research.google.com/assets/colab-badge.svg\" alt=\"Open In Colab\"/></a>"
      ]
    },
    {
      "cell_type": "code",
      "execution_count": 1,
      "metadata": {
        "colab": {
          "base_uri": "https://localhost:8080/"
        },
        "id": "l4ACMt1Nm6Tc",
        "outputId": "9bdc8e98-b8c7-4319-9db1-82ec1975cc18"
      },
      "outputs": [
        {
          "output_type": "stream",
          "name": "stdout",
          "text": [
            "77\n"
          ]
        }
      ],
      "source": [
        "import numpy as np\n",
        "# initialize arrays\n",
        "A = np.array ([2 , 1 , 5, 4])\n",
        "B = np.array ([3 , 4 , 7, 8])\n",
        "# dot product\n",
        "output = np.dot(A, B)\n",
        "print(output)"
      ]
    }
  ]
}