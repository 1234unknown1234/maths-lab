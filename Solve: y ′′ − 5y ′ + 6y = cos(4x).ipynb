{
  "nbformat": 4,
  "nbformat_minor": 0,
  "metadata": {
    "colab": {
      "provenance": [],
      "authorship_tag": "ABX9TyNRZ9It5ka8jCSHxcoJM7Vi",
      "include_colab_link": true
    },
    "kernelspec": {
      "name": "python3",
      "display_name": "Python 3"
    },
    "language_info": {
      "name": "python"
    }
  },
  "cells": [
    {
      "cell_type": "markdown",
      "metadata": {
        "id": "view-in-github",
        "colab_type": "text"
      },
      "source": [
        "<a href=\"https://colab.research.google.com/github/1234unknown1234/maths-lab/blob/main/Solve%3A%20y%20%E2%80%B2%E2%80%B2%20%E2%88%92%205y%20%E2%80%B2%20%2B%206y%20%3D%20cos(4x).ipynb\" target=\"_parent\"><img src=\"https://colab.research.google.com/assets/colab-badge.svg\" alt=\"Open In Colab\"/></a>"
      ]
    },
    {
      "cell_type": "code",
      "execution_count": 5,
      "metadata": {
        "colab": {
          "base_uri": "https://localhost:8080/",
          "height": 299
        },
        "id": "5K2OGQR1zhc5",
        "outputId": "cd5c449a-ba5e-4132-d765-850b0e55f814"
      },
      "outputs": [
        {
          "output_type": "stream",
          "name": "stdout",
          "text": [
            "Differential Equation :\n",
            "\n"
          ]
        },
        {
          "output_type": "display_data",
          "data": {
            "text/plain": [
              "Eq(6*y(x ) - cos(4*x ) - 5*Derivative(y(x ), x ) + Derivative(y(x ), (x , 2)), 0)"
            ],
            "text/latex": "$\\displaystyle 6 y{\\left(x  \\right)} - \\cos{\\left(4 x  \\right)} - 5 \\frac{d}{d x } y{\\left(x  \\right)} + \\frac{d^{2}}{d x ^{2}} y{\\left(x  \\right)} = 0$"
          },
          "metadata": {}
        },
        {
          "output_type": "stream",
          "name": "stdout",
          "text": [
            "\n",
            "\n",
            "General solution : \n",
            "\n"
          ]
        },
        {
          "output_type": "display_data",
          "data": {
            "text/plain": [
              "Eq(y(x ), C1*exp(2*x ) + C2*exp(3*x ) - sin(4*x )/25 - cos(4*x )/50)"
            ],
            "text/latex": "$\\displaystyle y{\\left(x  \\right)} = C_{1} e^{2 x } + C_{2} e^{3 x } - \\frac{\\sin{\\left(4 x  \\right)}}{25} - \\frac{\\cos{\\left(4 x  \\right)}}{50}$"
          },
          "metadata": {}
        },
        {
          "output_type": "stream",
          "name": "stdout",
          "text": [
            "\n",
            "\n",
            " Particular Solution :\n",
            "\n"
          ]
        },
        {
          "output_type": "display_data",
          "data": {
            "text/plain": [
              "Eq(y(x ), 2*exp(3*x ) + exp(2*x ) - sin(4*x )/25 - cos(4*x )/50)"
            ],
            "text/latex": "$\\displaystyle y{\\left(x  \\right)} = 2 e^{3 x } + e^{2 x } - \\frac{\\sin{\\left(4 x  \\right)}}{25} - \\frac{\\cos{\\left(4 x  \\right)}}{50}$"
          },
          "metadata": {}
        }
      ],
      "source": [
        "# Im port all the functions available\n",
        "from sympy import *\n",
        "x= Symbol('x ')\n",
        "y= Function (\"y\")(x)\n",
        "C1 ,C2 =symbols('C1 ,C2 ')\n",
        "y1 = Derivative(y,x)\n",
        "y2 = Derivative (y1 ,x)\n",
        "print(\"Differential Equation :\\n\")\n",
        "diff1 =Eq(y2 -5*y1 +6*y-cos(4*x),0)\n",
        "display (diff1 )\n",
        "print(\"\\n\\nGeneral solution : \\n\")\n",
        "z= dsolve (diff1 )\n",
        "display (z)\n",
        "# Let c1 =1 , c2 = 2\n",
        "PS=z.subs({C1 :1,C2 :2})\n",
        "print(\"\\n\\n Particular Solution :\\n\")\n",
        "display (PS)"
      ]
    },
    {
      "cell_type": "code",
      "source": [],
      "metadata": {
        "id": "ntAZkeMt1gQG"
      },
      "execution_count": null,
      "outputs": []
    },
    {
      "cell_type": "code",
      "source": [],
      "metadata": {
        "id": "BO5502s01gae"
      },
      "execution_count": null,
      "outputs": []
    }
  ]
}