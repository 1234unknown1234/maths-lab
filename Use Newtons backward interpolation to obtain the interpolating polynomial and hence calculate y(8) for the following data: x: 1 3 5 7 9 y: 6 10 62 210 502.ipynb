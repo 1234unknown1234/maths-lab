{
  "nbformat": 4,
  "nbformat_minor": 0,
  "metadata": {
    "colab": {
      "provenance": [],
      "authorship_tag": "ABX9TyPAPSNrUJlAsxNEms14E/fx",
      "include_colab_link": true
    },
    "kernelspec": {
      "name": "python3",
      "display_name": "Python 3"
    },
    "language_info": {
      "name": "python"
    }
  },
  "cells": [
    {
      "cell_type": "markdown",
      "metadata": {
        "id": "view-in-github",
        "colab_type": "text"
      },
      "source": [
        "<a href=\"https://colab.research.google.com/github/1234unknown1234/maths-lab/blob/main/Use%20Newtons%20backward%20interpolation%20to%20obtain%20the%20interpolating%20polynomial%20and%20hence%20calculate%20y(8)%20for%20the%20following%20data%3A%20x%3A%201%203%205%207%209%20y%3A%206%2010%2062%20210%20502.ipynb\" target=\"_parent\"><img src=\"https://colab.research.google.com/assets/colab-badge.svg\" alt=\"Open In Colab\"/></a>"
      ]
    },
    {
      "cell_type": "code",
      "execution_count": 2,
      "metadata": {
        "colab": {
          "base_uri": "https://localhost:8080/"
        },
        "id": "xCt4W3LgqHMo",
        "outputId": "543e31c8-57e3-491a-a083-9d206551dc02"
      },
      "outputs": [
        {
          "output_type": "stream",
          "name": "stdout",
          "text": [
            "Enter number of data points: 5\n",
            "Enter data for x and y : \n",
            "x[0]=1\n",
            "y[0]=6\n",
            "x[1]=3\n",
            "y[1]=10\n",
            "x[2]=5\n",
            "y[2]=62\n",
            "x[3]=7\n",
            "y[3]=210\n",
            "x[4]=9\n",
            "y[4]=502\n",
            "\n",
            "FORWARD DIFFERENCE TABLE\n",
            "\n",
            "1.00\t6.00\t4.00\t48.00\t48.00\t0.00\n",
            "3.00\t10.00\t52.00\t96.00\t48.00\n",
            "5.00\t62.00\t148.00\t144.00\n",
            "7.00\t210.00\t292.00\n",
            "9.00\t502.00\n",
            "\n",
            "THE INTERPOLATING POLYNOMIAL IS\n",
            "\n",
            "1.0*t**3 - 3.0*t**2 + 1.0*t + 7.0\n",
            "Do you want to interpolate at a point(y/n)? y\n",
            "enter the point (x) 2\n",
            "\n",
            "The value of the function at 2.0 is\n",
            " 5.0\n"
          ]
        }
      ],
      "source": [
        "from sympy import *\n",
        "import numpy as np\n",
        "n = int(input('Enter number of data points: '))\n",
        "x = np.zeros((n))\n",
        "y = np.zeros((n,n))\n",
        "\n",
        "# Reading data points\n",
        "print('Enter data for x and y : ')\n",
        "for i in range(n):\n",
        "    x[i] = float(input( 'x['+str(i)+']=' ))\n",
        "    y[i][0] = float(input( 'y['+str(i)+']=' ))\n",
        "\n",
        "# Generating forward difference table\n",
        "for j in range(1,n):\n",
        "    for i in range(0,n-j):\n",
        "        y[i][j] = y[i+1][j-1] - y[i][j-1]\n",
        "\n",
        "print('\\nFORWARD DIFFERENCE TABLE\\n');\n",
        "for i in range(0,n):\n",
        "    print('%0.2f' %(x[i]), end='')\n",
        "    for j in range(0, n-i):\n",
        "        print('\\t%0.2f' %(y[i][j]), end='')\n",
        "    print()\n",
        "\n",
        "# obtaining the polynomial\n",
        "t=symbols('t')\n",
        "f=[] # f is a list type data\n",
        "\n",
        "p=(t-x[0])/(x[1]-x[0])\n",
        "f.append(p)\n",
        "for i in range(1,n-1):\n",
        "    f.append(f[i-1]*(p-i)/(i+1))\n",
        "poly=y[0][0]\n",
        "for i in range(n-1):\n",
        "    poly=poly+f[i]*y[0][i+1]\n",
        "\n",
        "simp_poly=simplify(poly)\n",
        "print('\\nTHE INTERPOLATING POLYNOMIAL IS\\n');\n",
        "print(simp_poly)\n",
        "\n",
        "# if you want to interpolate at some point the next session will help\n",
        "inter=input('Do you want to interpolate at a point(y/n)? ')\n",
        "\n",
        "if inter=='y':\n",
        "    a=float(input('enter the point (x) '))\n",
        "    interpola=lambdify(t,simp_poly)\n",
        "    result=interpola(a)\n",
        "    print('\\nThe value of the function at',a,'is\\n',result)\n"
      ]
    }
  ]
}