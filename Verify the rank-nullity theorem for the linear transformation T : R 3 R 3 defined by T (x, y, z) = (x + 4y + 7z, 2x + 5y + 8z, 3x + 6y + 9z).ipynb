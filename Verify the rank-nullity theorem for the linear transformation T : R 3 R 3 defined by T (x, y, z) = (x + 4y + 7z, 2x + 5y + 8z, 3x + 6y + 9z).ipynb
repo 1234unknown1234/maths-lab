{
  "nbformat": 4,
  "nbformat_minor": 0,
  "metadata": {
    "colab": {
      "provenance": [],
      "authorship_tag": "ABX9TyOppbTQCjMrClt/GYZRl/yp",
      "include_colab_link": true
    },
    "kernelspec": {
      "name": "python3",
      "display_name": "Python 3"
    },
    "language_info": {
      "name": "python"
    }
  },
  "cells": [
    {
      "cell_type": "markdown",
      "metadata": {
        "id": "view-in-github",
        "colab_type": "text"
      },
      "source": [
        "<a href=\"https://colab.research.google.com/github/1234unknown1234/maths-lab/blob/main/Verify%20the%20rank-nullity%20theorem%20for%20the%20linear%20transformation%20T%20%3A%20R%203%20R%203%20defined%20by%20T%20(x%2C%20y%2C%20z)%20%3D%20(x%20%2B%204y%20%2B%207z%2C%202x%20%2B%205y%20%2B%208z%2C%203x%20%2B%206y%20%2B%209z).ipynb\" target=\"_parent\"><img src=\"https://colab.research.google.com/assets/colab-badge.svg\" alt=\"Open In Colab\"/></a>"
      ]
    },
    {
      "cell_type": "code",
      "execution_count": 1,
      "metadata": {
        "colab": {
          "base_uri": "https://localhost:8080/"
        },
        "id": "dLSJzT6fmIxV",
        "outputId": "7693019b-59a7-4319-9f01-6b324b021d8b"
      },
      "outputs": [
        {
          "output_type": "stream",
          "name": "stdout",
          "text": [
            "Rank of the matrix  2\n",
            "Null space of the matrix  [[-0.40824829]\n",
            " [ 0.81649658]\n",
            " [-0.40824829]]\n",
            "Null space of the matrix  1\n",
            "Rank -nullity theorem holds.\n"
          ]
        }
      ],
      "source": [
        "import numpy as np\n",
        "from scipy .linalg import null_space\n",
        "# Define a linear transform ation interm s of m atrix\n",
        "A = np.array ([[1 , 2 , 3], [4 , 5, 6], [7, 8 , 9]])\n",
        "# Find the rank of the m atrix A\n",
        "rank = np.linalg .matrix_rank (A)\n",
        "print(\"Rank of the matrix \" ,rank )\n",
        "# Find the null space of the m atrix A\n",
        "ns = null_space (A)\n",
        "print(\"Null space of the matrix \" ,ns)\n",
        "# Find the dim ension of the null space\n",
        "nullity = ns.shape [1]\n",
        "print(\"Null space of the matrix \" ,nullity )\n",
        "# Verify the rank - nullity theorem\n",
        "if rank + nullity == A.shape [1]:\n",
        "  print(\"Rank -nullity theorem holds.\")\n",
        "else :\n",
        "  print(\"Rank -nullity theorem does not hold .\")\n"
      ]
    }
  ]
}