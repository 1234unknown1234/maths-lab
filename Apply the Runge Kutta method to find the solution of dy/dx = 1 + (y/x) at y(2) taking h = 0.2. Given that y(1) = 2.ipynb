{
  "nbformat": 4,
  "nbformat_minor": 0,
  "metadata": {
    "colab": {
      "provenance": [],
      "authorship_tag": "ABX9TyOCVAWOSsb7bFbS7FQbjOF1",
      "include_colab_link": true
    },
    "kernelspec": {
      "name": "python3",
      "display_name": "Python 3"
    },
    "language_info": {
      "name": "python"
    }
  },
  "cells": [
    {
      "cell_type": "markdown",
      "metadata": {
        "id": "view-in-github",
        "colab_type": "text"
      },
      "source": [
        "<a href=\"https://colab.research.google.com/github/1234unknown1234/maths-lab/blob/main/Apply%20the%20Runge%20Kutta%20method%20to%20find%20the%20solution%20of%20dy/dx%20%3D%201%20%2B%20(y/x)%20at%20y(2)%20taking%20h%20%3D%200.2.%20Given%20that%20y(1)%20%3D%202.ipynb\" target=\"_parent\"><img src=\"https://colab.research.google.com/assets/colab-badge.svg\" alt=\"Open In Colab\"/></a>"
      ]
    },
    {
      "cell_type": "code",
      "execution_count": 1,
      "metadata": {
        "colab": {
          "base_uri": "https://localhost:8080/"
        },
        "id": "IK_U30PQKcmJ",
        "outputId": "c78653b2-fa20-4caf-8929-5298d10fa3ac"
      },
      "outputs": [
        {
          "output_type": "execute_result",
          "data": {
            "text/plain": [
              "array([2.  , 2.62, 3.27, 3.95, 4.66, 5.39])"
            ]
          },
          "metadata": {},
          "execution_count": 1
        }
      ],
      "source": [
        "from sympy import *\n",
        "import numpy as np\n",
        "def RungeKutta (g ,x0 ,h,y0 ,xn):\n",
        "  x ,y= symbols('x ,y')\n",
        "  f= lambdify ([x ,y],g)\n",
        "  xt=x0 +h\n",
        "  Y=[ y0]\n",
        "  while xt<=xn:\n",
        "    k1 =h* f( x0 , y0 )\n",
        "    k2=h* f( x0+h/2 , y0+k1 /2)\n",
        "    k3=h* f( x0+h/2 , y0+k2 /2)\n",
        "    k4 =h*f(x0+h, y0 +k3 )\n",
        "    y1=y0 +( 1/ 6)*( k1+ 2* k2 + 2* k3 +k4 )\n",
        "    Y. append (y1)\n",
        "    # print ('y(% 3.3f '% xt ,') is % 3.3f '% y1 )\n",
        "    x0 =xt\n",
        "    y0 =y1\n",
        "    xt=xt+h\n",
        "  return np.round (Y,2)\n",
        "RungeKutta ('1+(y/x)',1 ,0.2 ,2,2)"
      ]
    }
  ]
}