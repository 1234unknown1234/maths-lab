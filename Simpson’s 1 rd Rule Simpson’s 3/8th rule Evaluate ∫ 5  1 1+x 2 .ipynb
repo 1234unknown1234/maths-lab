{
  "nbformat": 4,
  "nbformat_minor": 0,
  "metadata": {
    "colab": {
      "provenance": [],
      "authorship_tag": "ABX9TyPw3lC9M+i+lur9TW/0NlDh",
      "include_colab_link": true
    },
    "kernelspec": {
      "name": "python3",
      "display_name": "Python 3"
    },
    "language_info": {
      "name": "python"
    }
  },
  "cells": [
    {
      "cell_type": "markdown",
      "metadata": {
        "id": "view-in-github",
        "colab_type": "text"
      },
      "source": [
        "<a href=\"https://colab.research.google.com/github/1234unknown1234/maths-lab/blob/main/Simpson%E2%80%99s%201%20rd%20Rule%20Simpson%E2%80%99s%203/8th%20rule%20Evaluate%20%E2%88%AB%205%20%201%201%2Bx%202%20.ipynb\" target=\"_parent\"><img src=\"https://colab.research.google.com/assets/colab-badge.svg\" alt=\"Open In Colab\"/></a>"
      ]
    },
    {
      "cell_type": "code",
      "execution_count": 1,
      "metadata": {
        "colab": {
          "base_uri": "https://localhost:8080/"
        },
        "id": "QELK6RtSuoZx",
        "outputId": "8a0f9442-b16d-4fe8-ff65-6f8684c609c5"
      },
      "outputs": [
        {
          "output_type": "stream",
          "name": "stdout",
          "text": [
            "Enter lower limit of integration: 0\n",
            "Enter upper limit of integration: 5\n",
            "Enter number of sub intervals: 100\n",
            "Integration result by Simpson's 1/3 method is: 1.404120\n"
          ]
        }
      ],
      "source": [
        "# Definition of the function to integrate\n",
        "def my_func(x):\n",
        "    return 1 / (1 + x ** 2)\n",
        "\n",
        "# Function to implement the Simpson's one-third rule\n",
        "def simpson13(x0, xn, n):\n",
        "    h = (xn - x0) / n  # calculating step size\n",
        "    # Finding sum\n",
        "    integration = (my_func(x0) + my_func(xn))\n",
        "    k = x0\n",
        "    for i in range(1, n):\n",
        "        if i % 2 == 0:\n",
        "            integration = integration + 4 * my_func(k)\n",
        "        else:\n",
        "            integration = integration + 2 * my_func(k)\n",
        "        k += h\n",
        "    # Finding final integration value\n",
        "    integration = integration * h * (1 / 3)\n",
        "    return integration\n",
        "\n",
        "# Input section\n",
        "lower_limit = float(input(\"Enter lower limit of integration: \"))\n",
        "upper_limit = float(input(\"Enter upper limit of integration: \"))\n",
        "sub_interval = int(input(\"Enter number of sub intervals: \"))\n",
        "\n",
        "# Call simpson13() method and get result\n",
        "result = simpson13(lower_limit, upper_limit, sub_interval)\n",
        "print(\"Integration result by Simpson's 1/3 method is: %0.6f\" % (result))\n"
      ]
    }
  ]
}