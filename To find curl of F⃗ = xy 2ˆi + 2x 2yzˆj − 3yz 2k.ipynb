{
  "nbformat": 4,
  "nbformat_minor": 0,
  "metadata": {
    "colab": {
      "provenance": [],
      "authorship_tag": "ABX9TyMFpl3V5Dx0AF1uL0dgvq9T",
      "include_colab_link": true
    },
    "kernelspec": {
      "name": "python3",
      "display_name": "Python 3"
    },
    "language_info": {
      "name": "python"
    }
  },
  "cells": [
    {
      "cell_type": "markdown",
      "metadata": {
        "id": "view-in-github",
        "colab_type": "text"
      },
      "source": [
        "<a href=\"https://colab.research.google.com/github/1234unknown1234/maths-lab/blob/main/To%20find%20curl%20of%20F%E2%83%97%20%3D%20xy%202%CB%86i%20%2B%202x%202yz%CB%86j%20%E2%88%92%203yz%202k.ipynb\" target=\"_parent\"><img src=\"https://colab.research.google.com/assets/colab-badge.svg\" alt=\"Open In Colab\"/></a>"
      ]
    },
    {
      "cell_type": "code",
      "execution_count": 1,
      "metadata": {
        "colab": {
          "base_uri": "https://localhost:8080/",
          "height": 95
        },
        "id": "xw24IKwqw0gz",
        "outputId": "469fbbfb-e2fc-493f-87c0-fb93891c4aeb"
      },
      "outputs": [
        {
          "output_type": "stream",
          "name": "stdout",
          "text": [
            "Given vector point function is \n"
          ]
        },
        {
          "output_type": "display_data",
          "data": {
            "text/plain": [
              "x*y**2*v .x + 2*x**2*y*z*v .y - 3*y*z**2*v .z"
            ],
            "text/latex": "$\\displaystyle x y^{2}\\mathbf{\\hat{v }_x} + 2 x^{2} y z\\mathbf{\\hat{v }_y} -  3 y z^{2}\\mathbf{\\hat{v }_z}$"
          },
          "metadata": {}
        },
        {
          "output_type": "stream",
          "name": "stdout",
          "text": [
            "curl of F=\n"
          ]
        },
        {
          "output_type": "display_data",
          "data": {
            "text/plain": [
              "(-2*x**2*y - 3*z**2)*v .x + (4*x*y*z - 2*x*y)*v .z"
            ],
            "text/latex": "$\\displaystyle (- 2 x^{2} y - 3 z^{2})\\mathbf{\\hat{v }_x} + (4 x y z - 2 x y)\\mathbf{\\hat{v }_z}$"
          },
          "metadata": {}
        }
      ],
      "source": [
        "# To find curl of F=xy^ 2i+ 2x^ 2yzj - 3yz^ 2k\n",
        "from sympy .physics.vector import *\n",
        "from sympy import var\n",
        "var('x,y, z')\n",
        "v= ReferenceFrame ('v ')\n",
        "F=v[ 0]*v[1] ** 2*v. x+ 2*v[0]** 2*v[1]* v[2]* v. y-3*v[ 1]*v[ 2]** 2*v.z\n",
        "G= curl(F,v)\n",
        "F=F.subs([( v[0],x) ,(v[ 1],y) ,(v[2],z)])\n",
        "print(\"Given vector point function is \")\n",
        "display (F)\n",
        "G=G.subs([(v[0],x),(v[1],y),(v[2],z)])\n",
        "print(\"curl of F=\")\n",
        "display (G)\n"
      ]
    }
  ]
}