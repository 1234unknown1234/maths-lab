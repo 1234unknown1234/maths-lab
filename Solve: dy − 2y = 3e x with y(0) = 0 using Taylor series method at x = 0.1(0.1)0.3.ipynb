{
  "nbformat": 4,
  "nbformat_minor": 0,
  "metadata": {
    "colab": {
      "provenance": [],
      "authorship_tag": "ABX9TyM+CynJkXe5CdYk6K1QF6ZC",
      "include_colab_link": true
    },
    "kernelspec": {
      "name": "python3",
      "display_name": "Python 3"
    },
    "language_info": {
      "name": "python"
    }
  },
  "cells": [
    {
      "cell_type": "markdown",
      "metadata": {
        "id": "view-in-github",
        "colab_type": "text"
      },
      "source": [
        "<a href=\"https://colab.research.google.com/github/1234unknown1234/maths-lab/blob/main/Solve%3A%20dy%20%E2%88%92%202y%20%3D%203e%20x%20with%20y(0)%20%3D%200%20using%20Taylor%20series%20method%20at%20x%20%3D%200.1(0.1)0.3.ipynb\" target=\"_parent\"><img src=\"https://colab.research.google.com/assets/colab-badge.svg\" alt=\"Open In Colab\"/></a>"
      ]
    },
    {
      "cell_type": "code",
      "execution_count": 9,
      "metadata": {
        "colab": {
          "base_uri": "https://localhost:8080/"
        },
        "id": "_RVpRcxiHUoP",
        "outputId": "19f115c5-35fd-41ce-c352-caaebe802eae"
      },
      "outputs": [
        {
          "output_type": "stream",
          "name": "stdout",
          "text": [
            "The required values are: at x = 0.00, y = 0.00000, x = 0.10, y = 0.34869, x = 0.20, y = 0.81125, x = 0.30, y = 1.41674\n"
          ]
        },
        {
          "output_type": "stream",
          "name": "stderr",
          "text": [
            "<ipython-input-9-ad5874d76cdf>:49: DeprecationWarning: Conversion of an array with ndim > 0 to a scalar is deprecated, and will error in future. Ensure you extract a single element from your array before performing this operation. (Deprecated NumPy 1.25.)\n",
            "  print(\"The required values are: at x = %0.2f, y = %0.5f, x = %0.2f, y = %0.5f, x = %0.2f, y = %0.5f, x = %0.2f, y = %0.5f\" %\n"
          ]
        }
      ],
      "source": [
        "## module taylor\n",
        "'''X,Y = taylor(deriv,x,y,xStop,h).\n",
        "4th-order Taylor series method for solving the initial value problem {y'} = {F(x,{y})}, where\n",
        "{y} = {y[0],y[1],...,y[n-1]}.\n",
        "x, y = initial conditions\n",
        "xStop = terminal value of x\n",
        "h = increment of x\n",
        "'''\n",
        "from numpy import array, zeros, exp\n",
        "\n",
        "def taylor(deriv, x, y, xStop, h):\n",
        "    X = []\n",
        "    Y = []\n",
        "    X.append(x)\n",
        "    Y.append(y)\n",
        "    while x < xStop:        # Loop over integration steps\n",
        "        D = deriv(x, y)     # Derivatives of y\n",
        "        H = 1.0\n",
        "        for j in range(4):  # Build Taylor series (corrected range to 4 for 4th-order Taylor series)\n",
        "            H = H * h / (j + 1)\n",
        "            y = y + D[j] * H\n",
        "        x = x + h\n",
        "        X.append(x)         # Append results to\n",
        "        Y.append(y)         # lists X and Y\n",
        "    return array(X), array(Y)  # Convert lists into arrays\n",
        "\n",
        "# deriv = user-supplied function that returns derivatives in the 4 x n array\n",
        "# '''\n",
        "# [y'[0] y'[1] y'[2] ... y'[n-1]\n",
        "#  y''[0] y''[1] y''[2] ... y''[n-1]\n",
        "#  y'''[0] y'''[1] y'''[2] ... y'''[n-1]\n",
        "#  y''''[0] y''''[1] y''''[2] ... y''''[n-1]]\n",
        "# '''\n",
        "\n",
        "def deriv(x, y):\n",
        "    D = zeros((4, 1))\n",
        "    D[0] = [2 * y[0] + 3 * exp(x)]\n",
        "    D[1] = [4 * y[0] + 9 * exp(x)]\n",
        "    D[2] = [8 * y[0] + 21 * exp(x)]\n",
        "    D[3] = [16 * y[0] + 45 * exp(x)]\n",
        "    return D\n",
        "\n",
        "x = 0.0         # Initial value of x\n",
        "xStop = 0.3     # Last value\n",
        "y = array([0.0])  # Initial values of y\n",
        "h = 0.1         # Step size\n",
        "X, Y = taylor(deriv, x, y, xStop, h)\n",
        "\n",
        "print(\"The required values are: at x = %0.2f, y = %0.5f, x = %0.2f, y = %0.5f, x = %0.2f, y = %0.5f, x = %0.2f, y = %0.5f\" %\n",
        "      (X[0], Y[0], X[1], Y[1], X[2], Y[2], X[3], Y[3]))\n"
      ]
    }
  ]
}