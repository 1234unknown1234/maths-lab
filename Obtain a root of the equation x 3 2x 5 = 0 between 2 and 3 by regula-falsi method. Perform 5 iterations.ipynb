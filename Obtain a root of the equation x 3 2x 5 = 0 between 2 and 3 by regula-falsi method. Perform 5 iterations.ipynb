{
  "nbformat": 4,
  "nbformat_minor": 0,
  "metadata": {
    "colab": {
      "provenance": [],
      "authorship_tag": "ABX9TyOGUe1XHPBvd5/aKHNnHfeQ",
      "include_colab_link": true
    },
    "kernelspec": {
      "name": "python3",
      "display_name": "Python 3"
    },
    "language_info": {
      "name": "python"
    }
  },
  "cells": [
    {
      "cell_type": "markdown",
      "metadata": {
        "id": "view-in-github",
        "colab_type": "text"
      },
      "source": [
        "<a href=\"https://colab.research.google.com/github/1234unknown1234/maths-lab/blob/main/Obtain%20a%20root%20of%20the%20equation%20x%203%202x%205%20%3D%200%20between%202%20and%203%20by%20regula-falsi%20method.%20Perform%205%20iterations.ipynb\" target=\"_parent\"><img src=\"https://colab.research.google.com/assets/colab-badge.svg\" alt=\"Open In Colab\"/></a>"
      ]
    },
    {
      "cell_type": "code",
      "execution_count": 3,
      "metadata": {
        "colab": {
          "base_uri": "https://localhost:8080/"
        },
        "id": "epV8QWDUnfIo",
        "outputId": "d1ca1c50-c95d-40ce-a5d9-bebefb9ff21e"
      },
      "outputs": [
        {
          "output_type": "stream",
          "name": "stdout",
          "text": [
            "Enter the function x**3-2*x-5\n",
            "Enter a valus :2\n",
            "Enter b valus :3\n",
            "Enter number of iterations :5\n",
            "itration 1 \t the root 2.059 \t function value -0.391 \n",
            "\n",
            "itration 2 \t the root 2.081 \t function value -0.147 \n",
            "\n",
            "itration 3 \t the root 2.090 \t function value -0.055 \n",
            "\n",
            "itration 4 \t the root 2.093 \t function value -0.020 \n",
            "\n",
            "itration 5 \t the root 2.094 \t function value -0.007 \n",
            "\n"
          ]
        }
      ],
      "source": [
        "#Regula Falsi method\n",
        "from sympy import *\n",
        "x= Symbol('x')\n",
        "g =input('Enter the function ')\n",
        "f= lambdify(x ,g)\n",
        "a= float(input('Enter a valus :')) #2\n",
        "b= float(input('Enter b valus :')) # 3\n",
        "N=int(input('Enter number of iterations :')) #5\n",
        "for i in range(1,N+1):\n",
        "  c=(a*f(b)- b*f(a))/(f( b)-f(a))\n",
        "  if((f(a)*f(c)<0)):\n",
        "    b=c\n",
        "  else:\n",
        "    a=c\n",
        "  print('itration %d \\t the root %0.3f \\t function value %0.3f \\n'%(i,c,f(c)));"
      ]
    }
  ]
}